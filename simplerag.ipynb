{
 "cells": [
  {
   "cell_type": "code",
   "metadata": {},
   "source": [
    "## Data Ingestion\n",
    "# # web based loader\n",
    "# from langchain_community.document_loaders import WebBaseLoader\n",
    "# import bs4\n",
    "\n",
    "# ## load,chunk and index the content of the html page\n",
    "\n",
    "# loader=WebBaseLoader(web_paths=(\"https://lilianweng.github.io/posts/2023-06-23-agent/\",),\n",
    "#                      bs_kwargs=dict(parse_only=bs4.SoupStrainer(\n",
    "#                          class_=(\"post-title\",\"post-content\",\"post-header\")\n",
    "\n",
    "#                      )))\n",
    "\n",
    "# text_documents=loader.load()\n",
    "## Pdf reader\n",
    "# from langchain_community.document_loaders import PyPDFLoader\n",
    "# loader=PyPDFLoader('attention.pdf')\n",
    "# docs=loader.load()\n",
    "from langchain_community.document_loaders import TextLoader\n",
    "loader=TextLoader(\"simple.txt\")\n",
    "text_documents=loader.load()"
   ],
   "outputs": [],
   "execution_count": null
  },
  {
   "cell_type": "code",
   "metadata": {
    "ExecuteTime": {
     "end_time": "2024-09-30T22:52:41.807867Z",
     "start_time": "2024-09-30T22:52:41.790080Z"
    }
   },
   "source": [
    "from langchain.text_splitter import RecursiveCharacterTextSplitter\n",
    "text_splitter=RecursiveCharacterTextSplitter(chunk_size=1000,chunk_overlap=200)\n",
    "documents=text_splitter.split_documents(text_documents)"
   ],
   "outputs": [],
   "execution_count": 2
  },
  {
   "cell_type": "code",
   "metadata": {
    "ExecuteTime": {
     "end_time": "2024-09-30T22:58:12.022533Z",
     "start_time": "2024-09-30T22:56:35.412333Z"
    }
   },
   "source": [
    "## Vector Embedding And Vector Store\n",
    "from langchain_community.embeddings.ollama import (\n",
    "        OllamaEmbeddings)\n",
    "from langchain_community.vectorstores import Chroma\n",
    "db = Chroma.from_documents(documents,embedding=OllamaEmbeddings(model='llava:latest'))"
   ],
   "outputs": [],
   "execution_count": 7
  },
  {
   "cell_type": "code",
   "metadata": {
    "ExecuteTime": {
     "end_time": "2024-09-30T22:55:26.320232Z",
     "start_time": "2024-09-30T22:55:26.305346Z"
    }
   },
   "source": [
    "query = \"Learn more about how we live our values at GitLab?\"\n",
    "retireved_results=db.similarity_search(query)\n",
    "print(retireved_results)"
   ],
   "outputs": [
    {
     "ename": "NameError",
     "evalue": "name 'db' is not defined",
     "output_type": "error",
     "traceback": [
      "\u001B[0;31m---------------------------------------------------------------------------\u001B[0m",
      "\u001B[0;31mNameError\u001B[0m                                 Traceback (most recent call last)",
      "Cell \u001B[0;32mIn[5], line 2\u001B[0m\n\u001B[1;32m      1\u001B[0m query \u001B[38;5;241m=\u001B[39m \u001B[38;5;124m\"\u001B[39m\u001B[38;5;124mLearn more about how we live our values at GitLab?\u001B[39m\u001B[38;5;124m\"\u001B[39m\n\u001B[0;32m----> 2\u001B[0m retireved_results\u001B[38;5;241m=\u001B[39m\u001B[43mdb\u001B[49m\u001B[38;5;241m.\u001B[39msimilarity_search(query)\n\u001B[1;32m      3\u001B[0m \u001B[38;5;28mprint\u001B[39m(retireved_results)\n",
      "\u001B[0;31mNameError\u001B[0m: name 'db' is not defined"
     ]
    }
   ],
   "execution_count": 5
  },
  {
   "metadata": {
    "ExecuteTime": {
     "end_time": "2024-09-30T22:58:40.382768Z",
     "start_time": "2024-09-30T22:58:40.061761Z"
    }
   },
   "cell_type": "code",
   "source": [
    "from langchain_community.llms import Ollama\n",
    "llm = Ollama(model=\"llava:latest\")\n",
    "llm"
   ],
   "outputs": [
    {
     "data": {
      "text/plain": [
       "Ollama(model='llava:latest')"
      ]
     },
     "execution_count": 8,
     "metadata": {},
     "output_type": "execute_result"
    }
   ],
   "execution_count": 8
  },
  {
   "metadata": {
    "ExecuteTime": {
     "end_time": "2024-09-30T22:58:44.270775Z",
     "start_time": "2024-09-30T22:58:44.202766Z"
    }
   },
   "cell_type": "code",
   "source": [
    "from langchain_core.prompts import ChatPromptTemplate\n",
    "prompt = ChatPromptTemplate.from_template(\"\"\"\n",
    "Answer the following question based only on the provided context\n",
    "Think step by step before providing a detailed answer\n",
    "<context>\n",
    "{context}\n",
    "</context>\n",
    "Question: {input}\"\"\")"
   ],
   "outputs": [],
   "execution_count": 9
  },
  {
   "metadata": {
    "ExecuteTime": {
     "end_time": "2024-09-30T22:58:56.065751Z",
     "start_time": "2024-09-30T22:58:56.062743Z"
    }
   },
   "cell_type": "code",
   "source": [
    "from langchain.chains.combine_documents import create_stuff_documents_chain\n",
    "document_chain = create_stuff_documents_chain(llm,prompt)"
   ],
   "outputs": [],
   "execution_count": 11
  },
  {
   "metadata": {
    "ExecuteTime": {
     "end_time": "2024-09-30T22:59:01.082860Z",
     "start_time": "2024-09-30T22:59:01.078342Z"
    }
   },
   "cell_type": "code",
   "source": [
    "retriever = db.as_retriever()\n",
    "retriever"
   ],
   "outputs": [
    {
     "data": {
      "text/plain": [
       "VectorStoreRetriever(tags=['Chroma', 'OllamaEmbeddings'], vectorstore=<langchain_community.vectorstores.chroma.Chroma object at 0x137080e00>, search_kwargs={})"
      ]
     },
     "execution_count": 12,
     "metadata": {},
     "output_type": "execute_result"
    }
   ],
   "execution_count": 12
  },
  {
   "metadata": {
    "ExecuteTime": {
     "end_time": "2024-09-30T22:59:03.621859Z",
     "start_time": "2024-09-30T22:59:03.617482Z"
    }
   },
   "cell_type": "code",
   "source": [
    "from langchain.chains import create_retrieval_chain\n",
    "retrieval_chain = create_retrieval_chain(retriever,document_chain)"
   ],
   "outputs": [],
   "execution_count": 13
  },
  {
   "metadata": {
    "ExecuteTime": {
     "end_time": "2024-10-01T00:10:08.406805Z",
     "start_time": "2024-10-01T00:09:57.342353Z"
    }
   },
   "cell_type": "code",
   "source": [
    "response = retrieval_chain.invoke({\"input\":\"who is the 40th president of united states \"})\n",
    "response['answer']"
   ],
   "outputs": [
    {
     "data": {
      "text/plain": [
       "\" I'm sorry, but I cannot answer your question as it does not fit within the provided context. The information in the context seems to be related to job grades, hiring criteria, and company values for GitLab, rather than historical facts like the 40th president of the United States. If you have any questions about the context itself or if there is anything else I can assist you with, please let me know! \""
      ]
     },
     "execution_count": 20,
     "metadata": {},
     "output_type": "execute_result"
    }
   ],
   "execution_count": 20
  },
  {
   "metadata": {},
   "cell_type": "code",
   "outputs": [],
   "execution_count": null,
   "source": ""
  }
 ],
 "metadata": {
  "kernelspec": {
   "display_name": "Python 3 (ipykernel)",
   "language": "python",
   "name": "python3"
  },
  "language_info": {
   "codemirror_mode": {
    "name": "ipython",
    "version": 3
   },
   "file_extension": ".py",
   "mimetype": "text/x-python",
   "name": "python",
   "nbconvert_exporter": "python",
   "pygments_lexer": "ipython3",
   "version": "3.12.4"
  }
 },
 "nbformat": 4,
 "nbformat_minor": 4
}
